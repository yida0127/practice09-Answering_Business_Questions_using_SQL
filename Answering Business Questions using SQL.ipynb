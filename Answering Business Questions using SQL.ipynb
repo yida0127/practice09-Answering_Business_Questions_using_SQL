{
 "cells": [
  {
   "cell_type": "markdown",
   "metadata": {},
   "source": [
    "# Answering Business Questions using SQL\n",
    "\n",
    "\n",
    "### Introduction and Schema Diagram\n",
    "\n",
    "In this guided project, we're going to practice using our SQL skills to answer business questions.\n",
    "\n",
    "We'll use Chinook database which provided as a SQLite database file called `chinook.db`. A copy of the database schema is below - we need to come back and check the connection between each other very often.\n",
    "\n",
    "![connection](https://s3.amazonaws.com/dq-content/191/chinook-schema.svg)\n",
    "\n"
   ]
  },
  {
   "cell_type": "markdown",
   "metadata": {},
   "source": [
    "### Connect to database file"
   ]
  },
  {
   "cell_type": "code",
   "execution_count": 1,
   "metadata": {
    "collapsed": false
   },
   "outputs": [
    {
     "data": {
      "text/plain": [
       "'Connected: None@chinook.db'"
      ]
     },
     "execution_count": 1,
     "metadata": {},
     "output_type": "execute_result"
    }
   ],
   "source": [
    "%%capture\n",
    "%load_ext sql\n",
    "%sql sqlite:///chinook.db"
   ]
  },
  {
   "cell_type": "markdown",
   "metadata": {},
   "source": [
    "### Overview of the Data\n",
    "\n",
    "write a query to return information of the tables."
   ]
  },
  {
   "cell_type": "code",
   "execution_count": 2,
   "metadata": {
    "collapsed": false,
    "scrolled": false
   },
   "outputs": [
    {
     "name": "stdout",
     "output_type": "stream",
     "text": [
      "Done.\n"
     ]
    },
    {
     "data": {
      "text/html": [
       "<table>\n",
       "    <tr>\n",
       "        <th>name</th>\n",
       "        <th>type</th>\n",
       "    </tr>\n",
       "    <tr>\n",
       "        <td>album</td>\n",
       "        <td>table</td>\n",
       "    </tr>\n",
       "    <tr>\n",
       "        <td>artist</td>\n",
       "        <td>table</td>\n",
       "    </tr>\n",
       "    <tr>\n",
       "        <td>customer</td>\n",
       "        <td>table</td>\n",
       "    </tr>\n",
       "    <tr>\n",
       "        <td>employee</td>\n",
       "        <td>table</td>\n",
       "    </tr>\n",
       "    <tr>\n",
       "        <td>genre</td>\n",
       "        <td>table</td>\n",
       "    </tr>\n",
       "    <tr>\n",
       "        <td>invoice</td>\n",
       "        <td>table</td>\n",
       "    </tr>\n",
       "    <tr>\n",
       "        <td>invoice_line</td>\n",
       "        <td>table</td>\n",
       "    </tr>\n",
       "    <tr>\n",
       "        <td>media_type</td>\n",
       "        <td>table</td>\n",
       "    </tr>\n",
       "    <tr>\n",
       "        <td>playlist</td>\n",
       "        <td>table</td>\n",
       "    </tr>\n",
       "    <tr>\n",
       "        <td>playlist_track</td>\n",
       "        <td>table</td>\n",
       "    </tr>\n",
       "    <tr>\n",
       "        <td>track</td>\n",
       "        <td>table</td>\n",
       "    </tr>\n",
       "    <tr>\n",
       "        <td>country_count</td>\n",
       "        <td>view</td>\n",
       "    </tr>\n",
       "</table>"
      ],
      "text/plain": [
       "[('album', 'table'),\n",
       " ('artist', 'table'),\n",
       " ('customer', 'table'),\n",
       " ('employee', 'table'),\n",
       " ('genre', 'table'),\n",
       " ('invoice', 'table'),\n",
       " ('invoice_line', 'table'),\n",
       " ('media_type', 'table'),\n",
       " ('playlist', 'table'),\n",
       " ('playlist_track', 'table'),\n",
       " ('track', 'table'),\n",
       " ('country_count', 'view')]"
      ]
     },
     "execution_count": 2,
     "metadata": {},
     "output_type": "execute_result"
    }
   ],
   "source": [
    "%%sql\n",
    "SELECT \n",
    "    name,\n",
    "    type\n",
    "FROM sqlite_master\n",
    "WHERE type IN ('table','view');"
   ]
  },
  {
   "cell_type": "markdown",
   "metadata": {},
   "source": [
    "### Selecting Albums to Purchase\n",
    "\n",
    "The Chinook record store has just signed a deal with a new record label, and we've been tasked with selecting the first three albums that will be added to the store, from a list of four. All four albums are by artists that don't have any tracks in the store right now - we have the artist names, and the genre of music they produce:\n",
    "\n",
    "\n",
    "|Artist Name|Genre|\n",
    "|---|---|\n",
    "|Regal|Hip-Hop|\n",
    "|Red Tone|Punk|\n",
    "|Metero and the Girls|Pop|\n",
    "|Slim Jim Bites|Blues|\n",
    "\n",
    "The record label specializes in artists from the USA, and they have given Chinook some money to advertise the new albums in the USA, so we're interested in finding out <b>which genres sell the best in the USA</b>.\n",
    "\n",
    "We need to write a query to find out which genres sell the most tracks in the USA, write up a summary of findings, and make a recommendation for the three artists whose albums we should purchase for the store.\n",
    "\n"
   ]
  },
  {
   "cell_type": "markdown",
   "metadata": {},
   "source": [
    "### Which genres sell the most tracks in the USA?"
   ]
  },
  {
   "cell_type": "code",
   "execution_count": 3,
   "metadata": {
    "collapsed": false,
    "scrolled": false
   },
   "outputs": [
    {
     "name": "stdout",
     "output_type": "stream",
     "text": [
      "Done.\n"
     ]
    },
    {
     "data": {
      "text/html": [
       "<table>\n",
       "    <tr>\n",
       "        <th>genre</th>\n",
       "        <th>quantity</th>\n",
       "        <th>percentage</th>\n",
       "    </tr>\n",
       "    <tr>\n",
       "        <td>Rock</td>\n",
       "        <td>561</td>\n",
       "        <td>53.38%</td>\n",
       "    </tr>\n",
       "    <tr>\n",
       "        <td>Alternative &amp; Punk</td>\n",
       "        <td>130</td>\n",
       "        <td>12.37%</td>\n",
       "    </tr>\n",
       "    <tr>\n",
       "        <td>Metal</td>\n",
       "        <td>124</td>\n",
       "        <td>11.8%</td>\n",
       "    </tr>\n",
       "    <tr>\n",
       "        <td>R&amp;B/Soul</td>\n",
       "        <td>53</td>\n",
       "        <td>5.04%</td>\n",
       "    </tr>\n",
       "    <tr>\n",
       "        <td>Blues</td>\n",
       "        <td>36</td>\n",
       "        <td>3.43%</td>\n",
       "    </tr>\n",
       "    <tr>\n",
       "        <td>Alternative</td>\n",
       "        <td>35</td>\n",
       "        <td>3.33%</td>\n",
       "    </tr>\n",
       "    <tr>\n",
       "        <td>Latin</td>\n",
       "        <td>22</td>\n",
       "        <td>2.09%</td>\n",
       "    </tr>\n",
       "    <tr>\n",
       "        <td>Pop</td>\n",
       "        <td>22</td>\n",
       "        <td>2.09%</td>\n",
       "    </tr>\n",
       "    <tr>\n",
       "        <td>Hip Hop/Rap</td>\n",
       "        <td>20</td>\n",
       "        <td>1.9%</td>\n",
       "    </tr>\n",
       "    <tr>\n",
       "        <td>Jazz</td>\n",
       "        <td>14</td>\n",
       "        <td>1.33%</td>\n",
       "    </tr>\n",
       "</table>"
      ],
      "text/plain": [
       "[('Rock', 561, '53.38%'),\n",
       " ('Alternative & Punk', 130, '12.37%'),\n",
       " ('Metal', 124, '11.8%'),\n",
       " ('R&B/Soul', 53, '5.04%'),\n",
       " ('Blues', 36, '3.43%'),\n",
       " ('Alternative', 35, '3.33%'),\n",
       " ('Latin', 22, '2.09%'),\n",
       " ('Pop', 22, '2.09%'),\n",
       " ('Hip Hop/Rap', 20, '1.9%'),\n",
       " ('Jazz', 14, '1.33%')]"
      ]
     },
     "execution_count": 3,
     "metadata": {},
     "output_type": "execute_result"
    }
   ],
   "source": [
    "%%sql\n",
    "WITH usa_track_sold AS\n",
    "    (\n",
    "    SELECT il.*\n",
    "    FROM invoice_line 'il'\n",
    "    INNER JOIN invoice 'inv' ON il.invoice_id=inv.invoice_id\n",
    "    INNER JOIN customer 'c' ON c.customer_id=inv.customer_id\n",
    "    WHERE c.country='USA'\n",
    "    )\n",
    "\n",
    "SELECT\n",
    "    g.name 'genre',\n",
    "    COUNT(uts.invoice_line_id) 'quantity',\n",
    "    ROUND(CAST(COUNT(uts.invoice_line_id) as Float)/\n",
    "    (SELECT COUNT(*) from usa_track_sold)*100,2)||'%' 'percentage'\n",
    "FROM usa_track_sold 'uts'\n",
    "INNER JOIN track 't' ON t.track_id=uts.track_id\n",
    "INNER JOIN genre 'g' ON g.genre_id=t.genre_id\n",
    "GROUP BY 1\n",
    "ORDER BY 2 DESC\n",
    "LIMIT 10;"
   ]
  },
  {
   "cell_type": "markdown",
   "metadata": {},
   "source": [
    "The best selling genre in USA is the following:\n",
    "* Rock(561 times/ 53.38%)\n",
    "* Alternative & Punk (130 times/ 12.37%)\n",
    "* Metal(124 times/11.8%)"
   ]
  },
  {
   "cell_type": "markdown",
   "metadata": {},
   "source": [
    "### Analyzing Employee Sales Performance\n",
    "\n",
    "Each customer for the Chinook store gets assigned to a sales support agent within the company when they first make a purchase. We have been asked to <b>analyze the purchases of customers belonging to each employee to see if any sales support agent is performing either better or worse than the others</b>.\n",
    "\n",
    "We might like to consider whether any extra columns from the employee table explain any variance we see, or whether the variance might instead be indicative of employee performance."
   ]
  },
  {
   "cell_type": "code",
   "execution_count": 5,
   "metadata": {
    "collapsed": false
   },
   "outputs": [
    {
     "name": "stdout",
     "output_type": "stream",
     "text": [
      "Done.\n"
     ]
    },
    {
     "data": {
      "text/html": [
       "<table>\n",
       "    <tr>\n",
       "        <th>employee_name</th>\n",
       "        <th>hire_date</th>\n",
       "        <th>birthdate</th>\n",
       "        <th>country</th>\n",
       "        <th>title</th>\n",
       "        <th>total_dollar_amount</th>\n",
       "    </tr>\n",
       "    <tr>\n",
       "        <td>Jane Peacock</td>\n",
       "        <td>2017-04-01 00:00:00</td>\n",
       "        <td>1973-08-29 00:00:00</td>\n",
       "        <td>Canada</td>\n",
       "        <td>Sales Support Agent</td>\n",
       "        <td>1731.5100000000039</td>\n",
       "    </tr>\n",
       "    <tr>\n",
       "        <td>Margaret Park</td>\n",
       "        <td>2017-05-03 00:00:00</td>\n",
       "        <td>1947-09-19 00:00:00</td>\n",
       "        <td>Canada</td>\n",
       "        <td>Sales Support Agent</td>\n",
       "        <td>1584.0000000000034</td>\n",
       "    </tr>\n",
       "    <tr>\n",
       "        <td>Steve Johnson</td>\n",
       "        <td>2017-10-17 00:00:00</td>\n",
       "        <td>1965-03-03 00:00:00</td>\n",
       "        <td>Canada</td>\n",
       "        <td>Sales Support Agent</td>\n",
       "        <td>1393.920000000002</td>\n",
       "    </tr>\n",
       "</table>"
      ],
      "text/plain": [
       "[('Jane Peacock', '2017-04-01 00:00:00', '1973-08-29 00:00:00', 'Canada', 'Sales Support Agent', 1731.5100000000039),\n",
       " ('Margaret Park', '2017-05-03 00:00:00', '1947-09-19 00:00:00', 'Canada', 'Sales Support Agent', 1584.0000000000034),\n",
       " ('Steve Johnson', '2017-10-17 00:00:00', '1965-03-03 00:00:00', 'Canada', 'Sales Support Agent', 1393.920000000002)]"
      ]
     },
     "execution_count": 5,
     "metadata": {},
     "output_type": "execute_result"
    }
   ],
   "source": [
    "%%sql\n",
    "SELECT\n",
    "    e.first_name||\" \"||e.last_name employee_name,\n",
    "    e.hire_date,\n",
    "    e.birthdate,\n",
    "    e.country,\n",
    "    e.title title,\n",
    "    SUM(inv.total) total_dollar_amount\n",
    "FROM employee e\n",
    "INNER JOIN customer c ON e.employee_id=c.support_rep_id\n",
    "INNER JOIN invoice inv ON c.customer_id=inv.customer_id\n",
    "GROUP BY 1,4\n",
    "ORDER BY 6 DESC;"
   ]
  },
  {
   "cell_type": "markdown",
   "metadata": {},
   "source": [
    "We connect the database of employee, customer and invoice to find out total dollar amount of sales to each sales support agent.\n",
    "\n",
    "We filter employee title to focus on `sales support agent`. Then, review them in descending order to find out Jane Peacock is responsible for most dollar, while Steve Johnson is the least.\n",
    "\n",
    "When we look deeper in the hire date, we find out there's positive connection between hire date and total dollar amount. The earlier sales support agent was hired, the more dollar amount it is. This makes sense because employee will get more familiar with selling process and had better chance to complete sales as working for longer time.\n",
    "\n",
    "All of them are Canadian so we can't tell if there's relationship between which country they came from. According to age, I can't tell if age can affect the total dollar amount because there's no obvious relationship for birthdate."
   ]
  },
  {
   "cell_type": "markdown",
   "metadata": {},
   "source": [
    "### Analyze the sales data for customers from each different country\n",
    "\n",
    "Our next task is to analyze the sales data for customers from each different country. We've been given guidance to use the country value from the `customers` table, and ignore the country from the billing address in the `invoice` table.\n",
    "\n",
    "In particular, you have been directed to calculate data, for each country, on the:\n",
    "\n",
    "* total number of customers\n",
    "* total value of sales\n",
    "* average value of sales per customer\n",
    "* average order value\n",
    "\n",
    "There're some countries with only one customer, we should group these customers as \"Others\" first."
   ]
  },
  {
   "cell_type": "code",
   "execution_count": 9,
   "metadata": {
    "collapsed": false,
    "scrolled": false
   },
   "outputs": [
    {
     "name": "stdout",
     "output_type": "stream",
     "text": [
      "Done.\n"
     ]
    },
    {
     "data": {
      "text/html": [
       "<table>\n",
       "    <tr>\n",
       "        <th>country</th>\n",
       "        <th>number_of_customer</th>\n",
       "        <th>total_sales</th>\n",
       "        <th>avg_sales_per_person</th>\n",
       "        <th>avg_order_sales</th>\n",
       "    </tr>\n",
       "    <tr>\n",
       "        <td>USA</td>\n",
       "        <td>13</td>\n",
       "        <td>1040.49</td>\n",
       "        <td>80.04</td>\n",
       "        <td>7.94</td>\n",
       "    </tr>\n",
       "    <tr>\n",
       "        <td>Canada</td>\n",
       "        <td>8</td>\n",
       "        <td>535.59</td>\n",
       "        <td>66.95</td>\n",
       "        <td>7.05</td>\n",
       "    </tr>\n",
       "    <tr>\n",
       "        <td>Brazil</td>\n",
       "        <td>5</td>\n",
       "        <td>427.68</td>\n",
       "        <td>85.54</td>\n",
       "        <td>7.01</td>\n",
       "    </tr>\n",
       "    <tr>\n",
       "        <td>France</td>\n",
       "        <td>5</td>\n",
       "        <td>389.07</td>\n",
       "        <td>77.81</td>\n",
       "        <td>7.78</td>\n",
       "    </tr>\n",
       "    <tr>\n",
       "        <td>Germany</td>\n",
       "        <td>4</td>\n",
       "        <td>334.62</td>\n",
       "        <td>83.66</td>\n",
       "        <td>8.16</td>\n",
       "    </tr>\n",
       "    <tr>\n",
       "        <td>Czech Republic</td>\n",
       "        <td>2</td>\n",
       "        <td>273.24</td>\n",
       "        <td>136.62</td>\n",
       "        <td>9.11</td>\n",
       "    </tr>\n",
       "    <tr>\n",
       "        <td>United Kingdom</td>\n",
       "        <td>3</td>\n",
       "        <td>245.52</td>\n",
       "        <td>81.84</td>\n",
       "        <td>8.77</td>\n",
       "    </tr>\n",
       "    <tr>\n",
       "        <td>Portugal</td>\n",
       "        <td>2</td>\n",
       "        <td>185.13</td>\n",
       "        <td>92.57</td>\n",
       "        <td>6.38</td>\n",
       "    </tr>\n",
       "    <tr>\n",
       "        <td>India</td>\n",
       "        <td>2</td>\n",
       "        <td>183.15</td>\n",
       "        <td>91.58</td>\n",
       "        <td>8.72</td>\n",
       "    </tr>\n",
       "    <tr>\n",
       "        <td>Other</td>\n",
       "        <td>15</td>\n",
       "        <td>1094.94</td>\n",
       "        <td>73.0</td>\n",
       "        <td>7.45</td>\n",
       "    </tr>\n",
       "</table>"
      ],
      "text/plain": [
       "[('USA', 13, 1040.49, 80.04, 7.94),\n",
       " ('Canada', 8, 535.59, 66.95, 7.05),\n",
       " ('Brazil', 5, 427.68, 85.54, 7.01),\n",
       " ('France', 5, 389.07, 77.81, 7.78),\n",
       " ('Germany', 4, 334.62, 83.66, 8.16),\n",
       " ('Czech Republic', 2, 273.24, 136.62, 9.11),\n",
       " ('United Kingdom', 3, 245.52, 81.84, 8.77),\n",
       " ('Portugal', 2, 185.13, 92.57, 6.38),\n",
       " ('India', 2, 183.15, 91.58, 8.72),\n",
       " ('Other', 15, 1094.94, 73.0, 7.45)]"
      ]
     },
     "execution_count": 9,
     "metadata": {},
     "output_type": "execute_result"
    }
   ],
   "source": [
    "%%sql\n",
    "WITH country_or_other AS\n",
    "    (\n",
    "    SELECT \n",
    "        CASE \n",
    "            WHEN (SELECT COUNT(*) \n",
    "                  FROM customer\n",
    "                  WHERE country=c.country\n",
    "                 ) = 1 THEN 'Other'\n",
    "            ELSE c.country\n",
    "        END AS 'country',\n",
    "        c.customer_id,\n",
    "        il.*\n",
    "    FROM invoice_line 'il'\n",
    "    INNER JOIN invoice 'i' ON i.invoice_id=il.invoice_id\n",
    "    INNER JOIN customer 'c' ON i.customer_id=c.customer_id\n",
    "    )\n",
    "    \n",
    "SELECT \n",
    "    country,\n",
    "    number_of_customer,\n",
    "    total_sales,\n",
    "    avg_sales_per_person,\n",
    "    avg_order_sales\n",
    "    \n",
    "FROM\n",
    "    (\n",
    "    SELECT\n",
    "        country,\n",
    "        COUNT(DISTINCT customer_id) 'number_of_customer',\n",
    "        ROUND(SUM(unit_price),2) 'total_sales',\n",
    "        ROUND(SUM(unit_price)/COUNT(DISTINCT customer_id),2) 'avg_sales_per_person',\n",
    "        ROUND(SUM(unit_price)/COUNT(DISTINCT invoice_id),2) 'avg_order_sales',\n",
    "        CASE\n",
    "            WHEN country = 'Other' THEN 1\n",
    "            ELSE 0\n",
    "        END AS 'sort'\n",
    "    FROM country_or_other\n",
    "    GROUP BY country\n",
    "    ORDER BY sort, total_sales DESC\n",
    "    );"
   ]
  },
  {
   "cell_type": "markdown",
   "metadata": {},
   "source": [
    "First, we calculat the number of customers by country and find many countries only have 1 customers. We'd like to group them into `Other` so the result will be tidy.\n",
    "\n",
    "Second, we finish calculations in subqueries. Remember to sort data by total sales in descending way, with 'Other' group at the very buttom.\n",
    "\n",
    "Finally, sort the result by the total sales in descending way, with the 'Other' group at the very bottom.\n",
    "(use the technique `CASE` to assign 'Other' country 1, other countries 0)"
   ]
  },
  {
   "cell_type": "markdown",
   "metadata": {
    "collapsed": true
   },
   "source": [
    "### Albums vs. Individual Tracks\n",
    "\n",
    "The Chinook store is setup in a way that allows customer to make purchases in the following ways:\n",
    "- Purchase a whole album\n",
    "- Purchase a collection of one or more individual tracks\n",
    "\n",
    "When customers purchase albums they are charged the same price as if they had purchased each of those tracks separately.\n",
    "\n",
    "Management are currently considering changing their purchasing strategy to save money. The strategy they are considering is to purchase only the most popular tracks from each album from record companies, instead of purchasing every track from an album.\n",
    "\n",
    "\n",
    "<b>We have been asked to find out what percentage of purchases are individual tracks vs whole albums</b>, so that management can use this data to understand the effect this decision might have on overall revenue.\n",
    "\n",
    "It is very common when we are performing an analysis to have 'edge cases' which prevent us from getting a 100% accurate answer to our question. In this instance, we have two edge cases to consider:\n",
    "\n",
    "- Albums that have only one or two tracks are likely to be purchased by customers as part of a collection of individual tracks.\n",
    "- Customers may decide to manually select every track from an album, and then add a few individual tracks from other albums to their purchase.\n",
    "\n",
    "In the first case, since our analysis is concerned with maximizing revenue we can safely ignore albums consisting of only a few tracks. The company has previously done analysis to confirm that the second case does not happen often, so we can ignore this case also."
   ]
  },
  {
   "cell_type": "code",
   "execution_count": 10,
   "metadata": {
    "collapsed": false,
    "scrolled": true
   },
   "outputs": [
    {
     "name": "stdout",
     "output_type": "stream",
     "text": [
      "Done.\n"
     ]
    },
    {
     "data": {
      "text/html": [
       "<table>\n",
       "    <tr>\n",
       "        <th>album_purchase</th>\n",
       "        <th>number_of_invoices</th>\n",
       "        <th>percentage_of_invoice</th>\n",
       "    </tr>\n",
       "    <tr>\n",
       "        <td>NO</td>\n",
       "        <td>500</td>\n",
       "        <td>81.43%</td>\n",
       "    </tr>\n",
       "    <tr>\n",
       "        <td>YES</td>\n",
       "        <td>114</td>\n",
       "        <td>18.57%</td>\n",
       "    </tr>\n",
       "</table>"
      ],
      "text/plain": [
       "[('NO', 500, '81.43%'), ('YES', 114, '18.57%')]"
      ]
     },
     "execution_count": 10,
     "metadata": {},
     "output_type": "execute_result"
    }
   ],
   "source": [
    "%%sql\n",
    "\n",
    "WITH invoice_first_track AS\n",
    "    (\n",
    "    SELECT\n",
    "        il.invoice_id 'invoice_id',\n",
    "        MIN(il.track_id) 'first_track_id'\n",
    "    FROM invoice_line 'il'\n",
    "    GROUP BY 1\n",
    "    )\n",
    "    \n",
    "SELECT\n",
    "    album_purchase,\n",
    "    COUNT(invoice_id) 'number_of_invoices',\n",
    "    ROUND(CAST(COUNT(invoice_id)as Float)/(SELECT COUNT(*) FROM invoice)*100,2)||'%' 'percentage_of_invoice'\n",
    "FROM (\n",
    "    SELECT \n",
    "        ift.*,\n",
    "        CASE\n",
    "            WHEN\n",
    "                (\n",
    "                SELECT t.track_id \n",
    "                FROM track t\n",
    "                WHERE t.album_id = (\n",
    "                                    SELECT t2.album_id \n",
    "                                    FROM track t2\n",
    "                                    WHERE t2.track_id = ift.first_track_id\n",
    "                                    )\n",
    "                EXCEPT\n",
    "                    \n",
    "                SELECT il2.track_id \n",
    "                FROM invoice_line 'il2'\n",
    "                WHERE il2.invoice_id = ift.invoice_id\n",
    "                )IS NULL\n",
    "            AND\n",
    "                (\n",
    "                SELECT il2.track_id \n",
    "                FROM invoice_line 'il2'\n",
    "                WHERE il2.invoice_id = ift.invoice_id\n",
    "                \n",
    "                EXCEPT\n",
    "                    \n",
    "                SELECT t.track_id \n",
    "                FROM track t\n",
    "                WHERE t.album_id = (\n",
    "                                    SELECT t2.album_id \n",
    "                                    FROM track 't2'\n",
    "                                    WHERE t2.track_id = ift.first_track_id\n",
    "                                    )\n",
    "                )IS NULL\n",
    "        THEN 'YES'\n",
    "        ELSE 'NO'\n",
    "        END AS 'album_purchase'\n",
    "     FROM invoice_first_track 'ift'               \n",
    "    )\n",
    "GROUP BY album_purchase;  \n"
   ]
  },
  {
   "cell_type": "markdown",
   "metadata": {},
   "source": [
    "Following observations above, we'd like to recommend Chinook only to purchase the most popular tracks instead of a whold album to save budget because only 18.57% customers will buy a whole album."
   ]
  },
  {
   "cell_type": "markdown",
   "metadata": {},
   "source": [
    "### Next Steps\n",
    "\n",
    "##### Which artist is used in the most playlist?"
   ]
  },
  {
   "cell_type": "code",
   "execution_count": 13,
   "metadata": {
    "collapsed": false
   },
   "outputs": [
    {
     "name": "stdout",
     "output_type": "stream",
     "text": [
      "Done.\n"
     ]
    },
    {
     "data": {
      "text/html": [
       "<table>\n",
       "    <tr>\n",
       "        <th>artist</th>\n",
       "        <th>number_of_times</th>\n",
       "        <th>percentage</th>\n",
       "        <th>playlist</th>\n",
       "        <th>genre</th>\n",
       "    </tr>\n",
       "    <tr>\n",
       "        <td>Iron Maiden</td>\n",
       "        <td>516</td>\n",
       "        <td>28.67%</td>\n",
       "        <td>Heavy Metal Classic</td>\n",
       "        <td>Metal</td>\n",
       "    </tr>\n",
       "    <tr>\n",
       "        <td>U2</td>\n",
       "        <td>333</td>\n",
       "        <td>18.5%</td>\n",
       "        <td>Music</td>\n",
       "        <td>Pop</td>\n",
       "    </tr>\n",
       "    <tr>\n",
       "        <td>Metallica</td>\n",
       "        <td>296</td>\n",
       "        <td>16.44%</td>\n",
       "        <td>Heavy Metal Classic</td>\n",
       "        <td>Metal</td>\n",
       "    </tr>\n",
       "    <tr>\n",
       "        <td>Led Zeppelin</td>\n",
       "        <td>252</td>\n",
       "        <td>14.0%</td>\n",
       "        <td>Music</td>\n",
       "        <td>Rock</td>\n",
       "    </tr>\n",
       "    <tr>\n",
       "        <td>Deep Purple</td>\n",
       "        <td>226</td>\n",
       "        <td>12.56%</td>\n",
       "        <td>Music</td>\n",
       "        <td>Rock</td>\n",
       "    </tr>\n",
       "    <tr>\n",
       "        <td>Lost</td>\n",
       "        <td>184</td>\n",
       "        <td>10.22%</td>\n",
       "        <td>TV Shows</td>\n",
       "        <td>Drama</td>\n",
       "    </tr>\n",
       "    <tr>\n",
       "        <td>Pearl Jam</td>\n",
       "        <td>177</td>\n",
       "        <td>9.83%</td>\n",
       "        <td>Grunge</td>\n",
       "        <td>Rock</td>\n",
       "    </tr>\n",
       "    <tr>\n",
       "        <td>Eric Clapton</td>\n",
       "        <td>145</td>\n",
       "        <td>8.06%</td>\n",
       "        <td>Brazilian Music</td>\n",
       "        <td>Latin</td>\n",
       "    </tr>\n",
       "    <tr>\n",
       "        <td>Faith No More</td>\n",
       "        <td>145</td>\n",
       "        <td>8.06%</td>\n",
       "        <td>Music</td>\n",
       "        <td>Alternative &amp; Punk</td>\n",
       "    </tr>\n",
       "    <tr>\n",
       "        <td>Lenny Kravitz</td>\n",
       "        <td>143</td>\n",
       "        <td>7.94%</td>\n",
       "        <td>Music</td>\n",
       "        <td>Metal</td>\n",
       "    </tr>\n",
       "</table>"
      ],
      "text/plain": [
       "[('Iron Maiden', 516, '28.67%', 'Heavy Metal Classic', 'Metal'),\n",
       " ('U2', 333, '18.5%', 'Music', 'Pop'),\n",
       " ('Metallica', 296, '16.44%', 'Heavy Metal Classic', 'Metal'),\n",
       " ('Led Zeppelin', 252, '14.0%', 'Music', 'Rock'),\n",
       " ('Deep Purple', 226, '12.56%', 'Music', 'Rock'),\n",
       " ('Lost', 184, '10.22%', 'TV Shows', 'Drama'),\n",
       " ('Pearl Jam', 177, '9.83%', 'Grunge', 'Rock'),\n",
       " ('Eric Clapton', 145, '8.06%', 'Brazilian Music', 'Latin'),\n",
       " ('Faith No More', 145, '8.06%', 'Music', 'Alternative & Punk'),\n",
       " ('Lenny Kravitz', 143, '7.94%', 'Music', 'Metal')]"
      ]
     },
     "execution_count": 13,
     "metadata": {},
     "output_type": "execute_result"
    }
   ],
   "source": [
    "%%sql\n",
    "SELECT\n",
    "    a.name 'artist',\n",
    "    COUNT(pl.playlist_id) 'number_of_times',\n",
    "    ROUND(CAST(COUNT(pl.playlist_id)as float)/(SELECT COUNT(*) FROM playlist),2)||'%' 'percentage',\n",
    "    pl.name 'playlist',\n",
    "    g.name 'genre'\n",
    "FROM artist 'a'\n",
    "INNER JOIN album 'al' ON a.artist_id=al.artist_id\n",
    "INNER JOIN track 't' ON al.album_id=t.album_id\n",
    "INNER JOIN playlist_track 'plt' ON t.track_id=plt.track_id\n",
    "INNER JOIN playlist 'pl' ON pl.playlist_id=plt.playlist_id\n",
    "INNER JOIN genre 'g' ON g.genre_id=t.genre_id\n",
    "GROUP BY artist\n",
    "ORDER BY number_of_times DESC\n",
    "LIMIT 10;"
   ]
  },
  {
   "cell_type": "markdown",
   "metadata": {},
   "source": [
    "`Iron Maiden` is the artist most used in the playlist for 516 times and 28.6%, followed by U2 (333 times,18.5%) and Metallica (296 times, 16.44%)."
   ]
  },
  {
   "cell_type": "markdown",
   "metadata": {},
   "source": [
    "##### How many tracks have been purchased vs not purchased?"
   ]
  },
  {
   "cell_type": "code",
   "execution_count": 14,
   "metadata": {
    "collapsed": false,
    "scrolled": true
   },
   "outputs": [
    {
     "name": "stdout",
     "output_type": "stream",
     "text": [
      "Done.\n"
     ]
    },
    {
     "data": {
      "text/html": [
       "<table>\n",
       "    <tr>\n",
       "        <th>tracks_purchased</th>\n",
       "        <th>tracks_not_purchased</th>\n",
       "    </tr>\n",
       "    <tr>\n",
       "        <td>1806</td>\n",
       "        <td>1697</td>\n",
       "    </tr>\n",
       "</table>"
      ],
      "text/plain": [
       "[(1806, 1697)]"
      ]
     },
     "execution_count": 14,
     "metadata": {},
     "output_type": "execute_result"
    }
   ],
   "source": [
    "%%sql\n",
    "WITH invoiced AS \n",
    "    (\n",
    "    SELECT track_id\n",
    "    FROM invoice_line\n",
    "    )\n",
    "\n",
    "SELECT COUNT(DISTINCT i.track_id) 'tracks_purchased',\n",
    "       (\n",
    "       SELECT COUNT(DISTINCT t.track_id)\n",
    "       FROM track 't'\n",
    "       WHERE t.track_id NOT IN (SELECT track_id FROM invoiced)\n",
    "       ) AS 'tracks_not_purchased'\n",
    "FROM invoiced 'i'\n",
    "LEFT JOIN track 't' ON t.track_id = i.track_id;\n"
   ]
  },
  {
   "cell_type": "markdown",
   "metadata": {},
   "source": [
    "1806 tracks have been purchased, while 1697 tracks haven't been purchased."
   ]
  },
  {
   "cell_type": "markdown",
   "metadata": {},
   "source": [
    "##### Do protected vs non-protected media types have an effect on popularity?"
   ]
  },
  {
   "cell_type": "code",
   "execution_count": 15,
   "metadata": {
    "collapsed": false,
    "scrolled": true
   },
   "outputs": [
    {
     "name": "stdout",
     "output_type": "stream",
     "text": [
      "Done.\n"
     ]
    },
    {
     "data": {
      "text/html": [
       "<table>\n",
       "    <tr>\n",
       "        <th>media_type_id</th>\n",
       "        <th>name</th>\n",
       "    </tr>\n",
       "    <tr>\n",
       "        <td>1</td>\n",
       "        <td>MPEG audio file</td>\n",
       "    </tr>\n",
       "    <tr>\n",
       "        <td>2</td>\n",
       "        <td>Protected AAC audio file</td>\n",
       "    </tr>\n",
       "    <tr>\n",
       "        <td>3</td>\n",
       "        <td>Protected MPEG-4 video file</td>\n",
       "    </tr>\n",
       "    <tr>\n",
       "        <td>4</td>\n",
       "        <td>Purchased AAC audio file</td>\n",
       "    </tr>\n",
       "    <tr>\n",
       "        <td>5</td>\n",
       "        <td>AAC audio file</td>\n",
       "    </tr>\n",
       "</table>"
      ],
      "text/plain": [
       "[(1, 'MPEG audio file'),\n",
       " (2, 'Protected AAC audio file'),\n",
       " (3, 'Protected MPEG-4 video file'),\n",
       " (4, 'Purchased AAC audio file'),\n",
       " (5, 'AAC audio file')]"
      ]
     },
     "execution_count": 15,
     "metadata": {},
     "output_type": "execute_result"
    }
   ],
   "source": [
    "%%sql\n",
    "SELECT *\n",
    "FROM media_type;"
   ]
  },
  {
   "cell_type": "markdown",
   "metadata": {},
   "source": [
    "As we can figure out in the context, 2 & 3 are media types which are protected. \n",
    "\n",
    "Let's find out if the protection will affect popularity."
   ]
  },
  {
   "cell_type": "code",
   "execution_count": 26,
   "metadata": {
    "collapsed": false,
    "scrolled": true
   },
   "outputs": [
    {
     "name": "stdout",
     "output_type": "stream",
     "text": [
      "Done.\n"
     ]
    },
    {
     "data": {
      "text/html": [
       "<table>\n",
       "    <tr>\n",
       "        <th>Protected</th>\n",
       "        <th>Unprotected</th>\n",
       "    </tr>\n",
       "    <tr>\n",
       "        <td>437.58</td>\n",
       "        <td>4271.85</td>\n",
       "    </tr>\n",
       "</table>"
      ],
      "text/plain": [
       "[(437.58, 4271.85)]"
      ]
     },
     "execution_count": 26,
     "metadata": {},
     "output_type": "execute_result"
    }
   ],
   "source": [
    "%%sql\n",
    "WITH protected AS\n",
    "(\n",
    "    SELECT SUM(il.unit_price * il.quantity) 'total_price',\n",
    "           il.track_id,\n",
    "           t.media_type_id\n",
    "    FROM invoice_line 'il'\n",
    "    INNER JOIN track 't' ON t.track_id = il.track_id\n",
    "    WHERE t.media_type_id = 2 or t.media_type_id = 3\n",
    "),\n",
    "unprotected AS\n",
    "(\n",
    "    SELECT SUM(il.unit_price * il.quantity) 'total_price',\n",
    "           il.track_id,\n",
    "           t.media_type_id\n",
    "    FROM invoice_line 'il'\n",
    "    INNER JOIN track 't' ON t.track_id = il.track_id\n",
    "    WHERE t.media_type_id != 2 and t.media_type_id != 3\n",
    ")\n",
    "\n",
    "SELECT ROUND(SUM(p.total_price),2) 'Protected',\n",
    "       ROUND(SUM(u.total_price),2) 'Unprotected'\n",
    "FROM media_type 'm'\n",
    "LEFT JOIN protected 'p' ON p.media_type_id = m.media_type_id\n",
    "LEFT JOIN unprotected 'u' ON u.media_type_id = m.media_type_id;"
   ]
  },
  {
   "cell_type": "markdown",
   "metadata": {},
   "source": [
    "Total sales price of unprotected media type is 4271.85 which is quite larger than that of protected media type of 437.58.\n",
    "\n",
    "We can make a conclusion that based on this database, unprotected media types are more popular than protected ones."
   ]
  },
  {
   "cell_type": "markdown",
   "metadata": {},
   "source": [
    "![connection](https://s3.amazonaws.com/dq-content/191/chinook-schema.svg)"
   ]
  },
  {
   "cell_type": "code",
   "execution_count": null,
   "metadata": {
    "collapsed": true
   },
   "outputs": [],
   "source": []
  }
 ],
 "metadata": {
  "kernelspec": {
   "display_name": "Python 3",
   "language": "python",
   "name": "python3"
  },
  "language_info": {
   "codemirror_mode": {
    "name": "ipython",
    "version": 3
   },
   "file_extension": ".py",
   "mimetype": "text/x-python",
   "name": "python",
   "nbconvert_exporter": "python",
   "pygments_lexer": "ipython3",
   "version": "3.4.3"
  }
 },
 "nbformat": 4,
 "nbformat_minor": 2
}
